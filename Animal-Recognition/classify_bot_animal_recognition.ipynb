{
  "nbformat": 4,
  "nbformat_minor": 0,
  "metadata": {
    "colab": {
      "name": "Copia de classify_bot.ipynb",
      "provenance": [],
      "private_outputs": true,
      "collapsed_sections": [],
      "include_colab_link": true
    },
    "kernelspec": {
      "name": "python3",
      "display_name": "Python 3"
    },
    "accelerator": "GPU"
  },
  "cells": [
    {
      "cell_type": "markdown",
      "metadata": {
        "id": "view-in-github",
        "colab_type": "text"
      },
      "source": [
        "<a href=\"https://colab.research.google.com/github/AndreaJuarez/Animal-Recognition/blob/master/classify_bot_animal_recognition.ipynb\" target=\"_parent\"><img src=\"https://colab.research.google.com/assets/colab-badge.svg\" alt=\"Open In Colab\"/></a>"
      ]
    },
    {
      "cell_type": "markdown",
      "metadata": {
        "id": "w8we7ALIaijJ",
        "colab_type": "text"
      },
      "source": [
        "# Instalar Telegram API"
      ]
    },
    {
      "cell_type": "code",
      "metadata": {
        "id": "i3hv1ms9UfnD",
        "colab_type": "code",
        "colab": {}
      },
      "source": [
        "!pip install python-telegram-bot==5.3.0"
      ],
      "execution_count": 0,
      "outputs": []
    },
    {
      "cell_type": "markdown",
      "metadata": {
        "id": "gfiEyA4Vapc3",
        "colab_type": "text"
      },
      "source": [
        "# Configurar Google Drive"
      ]
    },
    {
      "cell_type": "code",
      "metadata": {
        "id": "ugOLYC2CUnxP",
        "colab_type": "code",
        "colab": {}
      },
      "source": [
        "from google.colab import drive\n",
        "drive.mount('/content/drive')"
      ],
      "execution_count": 0,
      "outputs": []
    },
    {
      "cell_type": "markdown",
      "metadata": {
        "id": "WW56tQsfausE",
        "colab_type": "text"
      },
      "source": [
        "# Seleccionar directorio de trabajo"
      ]
    },
    {
      "cell_type": "code",
      "metadata": {
        "id": "t6i6kueHaxSF",
        "colab_type": "code",
        "colab": {}
      },
      "source": [
        "%cd 'drive/My Drive/classify_bot'\n",
        "!pwd\n",
        "!ls"
      ],
      "execution_count": 0,
      "outputs": []
    },
    {
      "cell_type": "markdown",
      "metadata": {
        "id": "5T45-zcfaz3j",
        "colab_type": "text"
      },
      "source": [
        "# Librerias"
      ]
    },
    {
      "cell_type": "code",
      "metadata": {
        "id": "fmlj-spka6mr",
        "colab_type": "code",
        "colab": {}
      },
      "source": [
        "%tensorflow_version 1.x\n",
        "import tensorflow as tf\n",
        "import sys\n",
        "import os\n",
        "from telegram.ext import Updater, CommandHandler, MessageHandler, Filters\n",
        "import logging\n",
        "\n",
        "print(\"Librerías importadas correctamente\")"
      ],
      "execution_count": 0,
      "outputs": []
    },
    {
      "cell_type": "markdown",
      "metadata": {
        "id": "E-eMoturbM_l",
        "colab_type": "text"
      },
      "source": [
        "# Classify"
      ]
    },
    {
      "cell_type": "code",
      "metadata": {
        "id": "OhGVWhyabO0t",
        "colab_type": "code",
        "colab": {}
      },
      "source": [
        "def classify(image_path):\n",
        "    # Read the image_data\n",
        "    image_data = tf.io.gfile.GFile(image_path, 'rb').read()\n",
        "\n",
        "    # Loads label file, strips off carriage return\n",
        "    label_lines = [line.rstrip() for line in tf.io.gfile.GFile(\"tf_files/retrained_labels.txt\")]\n",
        "\n",
        "    # Unpersists graph from file\n",
        "    with tf.io.gfile.GFile(\"tf_files/retrained_graph.pb\", 'rb') as f:\n",
        "        graph_def = tf.compat.v1.GraphDef()\n",
        "        graph_def.ParseFromString(f.read())\n",
        "        _ = tf.import_graph_def(graph_def, name='')\n",
        "\n",
        "    with tf.compat.v1.Session() as sess:\n",
        "        # Feed the image_data as input to the graph and get first prediction\n",
        "        softmax_tensor = sess.graph.get_tensor_by_name('final_result:0')\n",
        "        \n",
        "        predictions = sess.run(softmax_tensor, \\\n",
        "                {'DecodeJpeg/contents:0': image_data})\n",
        "        \n",
        "        # Sort to show labels of first prediction in order of confidence\n",
        "        top_k = predictions[0].argsort()[-len(predictions[0]):][::-1]\n",
        "        \n",
        "        result = None\n",
        "        for node_id in top_k:\n",
        "            human_string = label_lines[node_id]\n",
        "            accuracy = predictions[0][node_id]\n",
        "            array = []\n",
        "            print('%s (score = %.5f)' % (human_string, accuracy))\n",
        "            if accuracy >= 0.9:\n",
        "              if human_string == \"delfin\":\n",
        "                array.append(\"¡Es un DELFIN!\")\n",
        "                array.append(\"Los delfines son mamíferos marinos que, forman parte de la familia de los cetáceos.\")\n",
        "                array.append(\"Para más información....\")\n",
        "                array.append(\"https://www.youtube.com/watch?v=jxNmxNNyAl0\")\n",
        "                result = array\n",
        "              elif human_string == \"vaca\":\n",
        "                array.append(\"¡Es una VACA!\")\n",
        "                array.append(\"La vaca, es la hembra del toro. Se trata de un animal mamífero que pertenece a la familia de los bóvidos.\")\n",
        "                array.append(\"Para más información....\")\n",
        "                array.append(\"https://www.youtube.com/watch?v=3eKsSqWTvFY\")\n",
        "                result = array\n",
        "    return result\n",
        "\n",
        "print(\"Método para clasificar creado correctamente\")"
      ],
      "execution_count": 0,
      "outputs": []
    },
    {
      "cell_type": "markdown",
      "metadata": {
        "id": "UKAT7_6nYQw0",
        "colab_type": "text"
      },
      "source": [
        "# Token de telegram"
      ]
    },
    {
      "cell_type": "code",
      "metadata": {
        "id": "Ap9-21lDYTPb",
        "colab_type": "code",
        "colab": {}
      },
      "source": [
        "# ClassifyImagesBot\n",
        "token = '857161836:AAGSrHyKaT07ahi-sKQsrO2nH6iTaAuNnc0'\n",
        "\n",
        "print(\"token registrado\")"
      ],
      "execution_count": 0,
      "outputs": []
    },
    {
      "cell_type": "markdown",
      "metadata": {
        "id": "BGswDhxLc5Cw",
        "colab_type": "text"
      },
      "source": [
        "# Configuración del bot"
      ]
    },
    {
      "cell_type": "code",
      "metadata": {
        "id": "YU0S7GypUXAf",
        "colab_type": "code",
        "colab": {}
      },
      "source": [
        "# Enable logging\n",
        "try:\n",
        "    logging.basicConfig(\n",
        "        format='%(asctime)s - %(name)s - %(levelname)s - %(message)s', level=logging.INFO)\n",
        "    logger = logging.getLogger(__name__)\n",
        "except Exception as e:\n",
        "    print(\"Error logging {}\".format(e.args))\n",
        "\n",
        "def start(bot, update):\n",
        "    try:\n",
        "        username = update.message.from_user.username\n",
        "        message = \"¡Hola!... Envie una imagen\" + username\n",
        "        update.message.reply_text(message)\n",
        "    except Exception as e:\n",
        "        print(\"Error start {}\".format(e.args))\n",
        "\n",
        "\n",
        "def help(bot, update):\n",
        "    try:\n",
        "        username = update.message.from_user.username\n",
        "        update.message.reply_text('Hello {}, please send a image for classify'.format(username))\n",
        "    except Exception as e:\n",
        "        print(\"Error help {}\".format(e.args))\n",
        "\n",
        "def analize(bot, update):\n",
        "    try:\n",
        "        message = \"Recibiendo la imagen...\"\n",
        "        update.message.reply_text(message)\n",
        "        print(message)\n",
        "        \n",
        "        photo_file = bot.getFile(update.message.photo[-1].file_id)\n",
        "        id_user = update.message.from_user.id\n",
        "        id_file = photo_file.file_id\n",
        "        id_analisis = str(id_user) + \"-\" + str(id_file)\n",
        "        \n",
        "        filename = os.path.join('downloads/', '{}.jpg'.format(id_analisis))\n",
        "        photo_file.download(filename)\n",
        "        message = \"La imagen ha sido recibida y esta siendo analizada... Espere unos segundos\"\n",
        "        update.message.reply_text(message)\n",
        "        print(message)\n",
        "        \n",
        "        result = classify(filename)\n",
        "        print(result)\n",
        "        update.message.reply_text(result[0])\n",
        "        update.message.reply_text(result[1])\n",
        "        #update.message.reply_text(result[2])\n",
        "        #update.message.reply_text(result[3])\n",
        "        print(\"Waiting image..\")\n",
        "    except Exception as e:\n",
        "        print(\"Error analize {}\".format(e.args))\n",
        "\n",
        "\n",
        "def echo(bot, update):\n",
        "    try:\n",
        "        update.message.reply_text(update.message.text)\n",
        "        print(\"Receiving text...\")\n",
        "        print(\"Waiting for another test...\")\n",
        "        print(update.message.from_user)\n",
        "    except Exception as e:\n",
        "        print(\"Error echo {}\".format(e.args))\n",
        "\n",
        "def error(bot, update, error):\n",
        "    try:\n",
        "        logger.warn('Update \"%s\" caused error \"%s\"' % (update, error))\n",
        "    except Exception as e:\n",
        "        print(\"Error error {}\".format(e.args))\n",
        "\n",
        "def main():\n",
        "    try:\n",
        "        print('ClassifyImagesBot init token')\n",
        "\n",
        "        updater = Updater(token)\n",
        "        # Get the dispatcher to register handlers\n",
        "        dp = updater.dispatcher\n",
        "\n",
        "        print('ClassifyImagesBot init dispatcher')\n",
        "\n",
        "\n",
        "        # on different commands - answer in Telegram\n",
        "        dp.add_handler(CommandHandler(\"start\", start))\n",
        "        dp.add_handler(CommandHandler(\"help\", help))\n",
        "\n",
        "        # on noncommand detect the document type on Telegram\n",
        "        dp.add_handler(MessageHandler(Filters.text, echo))\n",
        "        dp.add_handler(MessageHandler(Filters.photo, analize))\n",
        "\n",
        "        # log all errors\n",
        "        dp.add_error_handler(error)\n",
        "\n",
        "        # Start the Bot\n",
        "        updater.start_polling()\n",
        "        print('ClassifyImagesBot ready')\n",
        "        updater.idle()\n",
        "    except Exception as e:\n",
        "        print(\"Error main {}\".format(e.message))\n",
        "\n",
        "print(\"Bot configurado correctamente\")\n"
      ],
      "execution_count": 0,
      "outputs": []
    },
    {
      "cell_type": "markdown",
      "metadata": {
        "id": "Ma-aIv87cSfQ",
        "colab_type": "text"
      },
      "source": [
        "# Ejecutar el Bot"
      ]
    },
    {
      "cell_type": "code",
      "metadata": {
        "id": "fvhxaGsTcWEp",
        "colab_type": "code",
        "colab": {}
      },
      "source": [
        "if __name__ == '__main__':\n",
        "    try:\n",
        "        main()\n",
        "    except Exception as e:\n",
        "        print(\"Error name: {}\".format(e.args))"
      ],
      "execution_count": 0,
      "outputs": []
    }
  ]
}